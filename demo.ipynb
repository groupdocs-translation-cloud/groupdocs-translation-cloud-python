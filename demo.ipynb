{
 "cells": [
  {
   "cell_type": "code",
   "execution_count": 1,
   "metadata": {},
   "outputs": [],
   "source": [
    "from groupdocstranslationcloud.configuration import Configuration\n",
    "from groupdocstranslationcloud.api.translation_api import TranslationApi\n",
    "from groupdocstranslationcloud.api.storage_api import StorageApi\n",
    "from groupdocstranslationcloud.models.translate_text import TranslateText\n",
    "from groupdocstranslationcloud.models.translate_document import TranslateDocument"
   ]
  },
  {
   "cell_type": "markdown",
   "metadata": {},
   "source": [
    "## Please enter valid client_secret and client_id to run this demo. \n",
    "\n",
    "## See documentation for details: https://docs.groupdocs.cloud/total/creating-and-managing-application/"
   ]
  },
  {
   "cell_type": "code",
   "execution_count": 3,
   "metadata": {},
   "outputs": [],
   "source": [
    "configuration = Configuration(client_secret=\"5d0da472782620373473703904631795\", client_id=\"translate.cloud\")\n",
    "translation_api = TranslationApi(configuration)\n",
    "storage_api = StorageApi(configuration)"
   ]
  },
  {
   "cell_type": "markdown",
   "metadata": {},
   "source": [
    "## Plain text translation: setting parameters"
   ]
  },
  {
   "cell_type": "code",
   "execution_count": 4,
   "metadata": {},
   "outputs": [],
   "source": [
    "pair = \"en-fr\"\n",
    "text = \"Welcome to Paris\""
   ]
  },
  {
   "cell_type": "markdown",
   "metadata": {},
   "source": [
    "## Plain text translation: translating text"
   ]
  },
  {
   "cell_type": "code",
   "execution_count": 5,
   "metadata": {},
   "outputs": [
    {
     "name": "stdout",
     "output_type": "stream",
     "text": [
      "Bienvenue à Paris\n"
     ]
    }
   ],
   "source": [
    "translator = TranslateText(pair, text)\n",
    "request = translator.to_string()\n",
    "res = translation_api.post_translate_text(request)\n",
    "print(res.translation)"
   ]
  },
  {
   "cell_type": "markdown",
   "metadata": {},
   "source": [
    "## Document translation: setting parameters"
   ]
  },
  {
   "cell_type": "code",
   "execution_count": 6,
   "metadata": {},
   "outputs": [],
   "source": [
    "upload_path = \"test.docx\"\n",
    "download_path = \"translated.docx\"\n",
    "\n",
    "pair = \"en-fr\"\n",
    "_format = \"docx\"\n",
    "outformat = \"docx\"\n",
    "storage = \"First Storage\"\n",
    "name = \"test.docx\"\n",
    "folder = \"\"\n",
    "savepath = \"\"\n",
    "savefile = \"translated.docx\"\n",
    "masters = False\n",
    "elements = []"
   ]
  },
  {
   "cell_type": "markdown",
   "metadata": {},
   "source": [
    "## Document translation: uploading document"
   ]
  },
  {
   "cell_type": "code",
   "execution_count": 7,
   "metadata": {},
   "outputs": [
    {
     "name": "stdout",
     "output_type": "stream",
     "text": [
      "File uploaded\n"
     ]
    }
   ],
   "source": [
    "upload_res = storage_api.upload_file(name, upload_path)\n",
    "print(\"File uploaded\")"
   ]
  },
  {
   "cell_type": "markdown",
   "metadata": {},
   "source": [
    "## Document translation: translating document"
   ]
  },
  {
   "cell_type": "code",
   "execution_count": 9,
   "metadata": {},
   "outputs": [
    {
     "name": "stdout",
     "output_type": "stream",
     "text": [
      ".docx file saved successfully, file was fully translated\n"
     ]
    }
   ],
   "source": [
    "translator = TranslateDocument(pair, _format, outformat, storage, name, folder, savepath, savefile, masters, elements)\n",
    "request = translator.to_string()\n",
    "res = translation_api.post_translate_document(request)\n",
    "print(res.message)"
   ]
  }
 ],
 "metadata": {
  "kernelspec": {
   "display_name": "Python 3",
   "language": "python",
   "name": "python3"
  },
  "language_info": {
   "codemirror_mode": {
    "name": "ipython",
    "version": 3
   },
   "file_extension": ".py",
   "mimetype": "text/x-python",
   "name": "python",
   "nbconvert_exporter": "python",
   "pygments_lexer": "ipython3",
   "version": "3.7.4"
  }
 },
 "nbformat": 4,
 "nbformat_minor": 2
}
