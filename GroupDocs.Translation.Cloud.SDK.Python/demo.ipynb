{
 "cells": [
  {
   "cell_type": "code",
   "execution_count": 1,
   "metadata": {},
   "outputs": [],
   "source": [
    "from groupdocstranslationcloud.configuration import Configuration\n",
    "from groupdocstranslationcloud.api.translation_api import TranslationApi\n",
    "from groupdocstranslationcloud.models.translate_text import TranslateText\n",
    "from groupdocstranslationcloud.models.translate_document import TranslateDocument"
   ]
  },
  {
   "cell_type": "markdown",
   "metadata": {},
   "source": [
    "## Please enter valid apiKey and appSid to run this demo. \n",
    "\n",
    "## See documentation for details: https://docs.groupdocs.cloud/translation/create-new-app-and-get-app-key-and-sid/"
   ]
  },
  {
   "cell_type": "code",
   "execution_count": 2,
   "metadata": {},
   "outputs": [],
   "source": [
    "configuration = Configuration(apiKey=\"\", appSid=\"\")"
   ]
  },
  {
   "cell_type": "code",
   "execution_count": 3,
   "metadata": {},
   "outputs": [],
   "source": [
    "pair = \"en-fr\"\n",
    "text = \"Welcome to Paris\"\n",
    "\n",
    "# creating body of request\n",
    "\n",
    "translator = TranslateText(pair, text)\n",
    "request = translator.to_string()"
   ]
  },
  {
   "cell_type": "code",
   "execution_count": 4,
   "metadata": {},
   "outputs": [],
   "source": [
    "api = TranslationApi(configuration)"
   ]
  },
  {
   "cell_type": "code",
   "execution_count": 5,
   "metadata": {},
   "outputs": [
    {
     "name": "stdout",
     "output_type": "stream",
     "text": [
      "Bienvenue à Paris\n"
     ]
    }
   ],
   "source": [
    "res = api.post_translate_text(request)\n",
    "print(res.translation)"
   ]
  },
  {
   "cell_type": "code",
   "execution_count": 6,
   "metadata": {},
   "outputs": [
    {
     "name": "stdout",
     "output_type": "stream",
     "text": [
      "{'message': 'Health check passed', 'status': 'ok'}\n"
     ]
    }
   ],
   "source": [
    "res = api.get_run_health_check()\n",
    "print(res)"
   ]
  },
  {
   "cell_type": "markdown",
   "metadata": {},
   "source": [
    "## To run this example, please upload file test.docx to your default storage. "
   ]
  },
  {
   "cell_type": "code",
   "execution_count": 7,
   "metadata": {},
   "outputs": [],
   "source": [
    "pair = \"en-fr\"\n",
    "_format = \"docx\"\n",
    "storage = \"First Storage\"\n",
    "name = \"test.docx\"\n",
    "folder = \"\"\n",
    "savepath = \"\"\n",
    "savefile = \"test_python.docx\"  \n",
    "\n",
    "translator = TranslateDocument(pair, _format, storage, name, folder, savepath, savefile)\n",
    "request = translator.to_string()  "
   ]
  },
  {
   "cell_type": "code",
   "execution_count": 8,
   "metadata": {},
   "outputs": [
    {
     "name": "stdout",
     "output_type": "stream",
     "text": [
      "word file saved successfully\n"
     ]
    }
   ],
   "source": [
    "res = api.post_translate_document(request)\n",
    "print(res.message)"
   ]
  },
  {
   "cell_type": "code",
   "execution_count": null,
   "metadata": {},
   "outputs": [],
   "source": []
  }
 ],
 "metadata": {
  "kernelspec": {
   "display_name": "Python 3",
   "language": "python",
   "name": "python3"
  },
  "language_info": {
   "codemirror_mode": {
    "name": "ipython",
    "version": 3
   },
   "file_extension": ".py",
   "mimetype": "text/x-python",
   "name": "python",
   "nbconvert_exporter": "python",
   "pygments_lexer": "ipython3",
   "version": "3.7.4"
  }
 },
 "nbformat": 4,
 "nbformat_minor": 2
}
